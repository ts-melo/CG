{
 "cells": [
  {
   "cell_type": "code",
   "execution_count": null,
   "metadata": {},
   "outputs": [],
   "source": [
    "import numpy as np\n",
    "\n",
    "class MPL:\n",
    "    def __init__(self, layers, activation = 'true'):\n",
    "        self.layers = layers\n",
    "        self.activation = activation\n",
    "        self.weight = []\n",
    "        self.biases = []\n",
    "        for i in range(len(layers) - 1):\n",
    "            self.weights.append(np.random.randn(layers[i], layers[i+1]))\n",
    "            self.biases.append(np.zeros((1, layers[i+1])))\n",
    "        def activate(self, x):\n",
    "            if self.activation == 'relu':\n",
    "                return np.maximum(0, x)\n",
    "            elif self.activation == 'sigmoid':\n",
    "                return 1/(1+np.exp(-x))\n",
    "        def activate_derivative(self, x):\n",
    "            if self.activation == 'relu':\n",
    "                return np.where( x> 0, 1, 0)\n",
    "            elif self.activation == 'sigmoid':\n",
    "                sig = self.activate(x)\n",
    "                return sig * (1-sig)"
   ]
  }
 ],
 "metadata": {
  "kernelspec": {
   "display_name": "Python 3",
   "language": "python",
   "name": "python3"
  },
  "language_info": {
   "name": "python",
   "version": "3.10.11"
  }
 },
 "nbformat": 4,
 "nbformat_minor": 2
}
